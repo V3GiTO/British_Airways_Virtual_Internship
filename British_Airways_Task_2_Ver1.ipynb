{
 "cells": [
  {
   "cell_type": "markdown",
   "metadata": {},
   "source": [
    "# Task 2 - Predict Customer Buying Behavior\n",
    "\n",
    "---"
   ]
  },
  {
   "cell_type": "code",
   "execution_count": 1,
   "metadata": {},
   "outputs": [],
   "source": [
    "import pandas as pd\n",
    "import numpy as np\n",
    "import matplotlib.pyplot as plt\n",
    "import seaborn as sns\n",
    "\n",
    "%matplotlib inline\n",
    "\n",
    "import warnings\n",
    "warnings.filterwarnings(\"ignore\")"
   ]
  },
  {
   "cell_type": "code",
   "execution_count": 2,
   "metadata": {},
   "outputs": [
    {
     "data": {
      "text/html": [
       "<div>\n",
       "<style scoped>\n",
       "    .dataframe tbody tr th:only-of-type {\n",
       "        vertical-align: middle;\n",
       "    }\n",
       "\n",
       "    .dataframe tbody tr th {\n",
       "        vertical-align: top;\n",
       "    }\n",
       "\n",
       "    .dataframe thead th {\n",
       "        text-align: right;\n",
       "    }\n",
       "</style>\n",
       "<table border=\"1\" class=\"dataframe\">\n",
       "  <thead>\n",
       "    <tr style=\"text-align: right;\">\n",
       "      <th></th>\n",
       "      <th>num_passengers</th>\n",
       "      <th>sales_channel</th>\n",
       "      <th>trip_type</th>\n",
       "      <th>purchase_lead</th>\n",
       "      <th>length_of_stay</th>\n",
       "      <th>flight_hour</th>\n",
       "      <th>flight_day</th>\n",
       "      <th>route</th>\n",
       "      <th>booking_origin</th>\n",
       "      <th>wants_extra_baggage</th>\n",
       "      <th>wants_preferred_seat</th>\n",
       "      <th>wants_in_flight_meals</th>\n",
       "      <th>flight_duration</th>\n",
       "      <th>booking_complete</th>\n",
       "    </tr>\n",
       "  </thead>\n",
       "  <tbody>\n",
       "    <tr>\n",
       "      <th>0</th>\n",
       "      <td>2</td>\n",
       "      <td>Internet</td>\n",
       "      <td>RoundTrip</td>\n",
       "      <td>262</td>\n",
       "      <td>19</td>\n",
       "      <td>7</td>\n",
       "      <td>Sat</td>\n",
       "      <td>AKLDEL</td>\n",
       "      <td>New Zealand</td>\n",
       "      <td>1</td>\n",
       "      <td>0</td>\n",
       "      <td>0</td>\n",
       "      <td>5.52</td>\n",
       "      <td>0</td>\n",
       "    </tr>\n",
       "    <tr>\n",
       "      <th>1</th>\n",
       "      <td>1</td>\n",
       "      <td>Internet</td>\n",
       "      <td>RoundTrip</td>\n",
       "      <td>112</td>\n",
       "      <td>20</td>\n",
       "      <td>3</td>\n",
       "      <td>Sat</td>\n",
       "      <td>AKLDEL</td>\n",
       "      <td>New Zealand</td>\n",
       "      <td>0</td>\n",
       "      <td>0</td>\n",
       "      <td>0</td>\n",
       "      <td>5.52</td>\n",
       "      <td>0</td>\n",
       "    </tr>\n",
       "    <tr>\n",
       "      <th>2</th>\n",
       "      <td>2</td>\n",
       "      <td>Internet</td>\n",
       "      <td>RoundTrip</td>\n",
       "      <td>243</td>\n",
       "      <td>22</td>\n",
       "      <td>17</td>\n",
       "      <td>Wed</td>\n",
       "      <td>AKLDEL</td>\n",
       "      <td>India</td>\n",
       "      <td>1</td>\n",
       "      <td>1</td>\n",
       "      <td>0</td>\n",
       "      <td>5.52</td>\n",
       "      <td>0</td>\n",
       "    </tr>\n",
       "    <tr>\n",
       "      <th>3</th>\n",
       "      <td>1</td>\n",
       "      <td>Internet</td>\n",
       "      <td>RoundTrip</td>\n",
       "      <td>96</td>\n",
       "      <td>31</td>\n",
       "      <td>4</td>\n",
       "      <td>Sat</td>\n",
       "      <td>AKLDEL</td>\n",
       "      <td>New Zealand</td>\n",
       "      <td>0</td>\n",
       "      <td>0</td>\n",
       "      <td>1</td>\n",
       "      <td>5.52</td>\n",
       "      <td>0</td>\n",
       "    </tr>\n",
       "    <tr>\n",
       "      <th>4</th>\n",
       "      <td>2</td>\n",
       "      <td>Internet</td>\n",
       "      <td>RoundTrip</td>\n",
       "      <td>68</td>\n",
       "      <td>22</td>\n",
       "      <td>15</td>\n",
       "      <td>Wed</td>\n",
       "      <td>AKLDEL</td>\n",
       "      <td>India</td>\n",
       "      <td>1</td>\n",
       "      <td>0</td>\n",
       "      <td>1</td>\n",
       "      <td>5.52</td>\n",
       "      <td>0</td>\n",
       "    </tr>\n",
       "  </tbody>\n",
       "</table>\n",
       "</div>"
      ],
      "text/plain": [
       "   num_passengers sales_channel  trip_type  purchase_lead  length_of_stay  \\\n",
       "0               2      Internet  RoundTrip            262              19   \n",
       "1               1      Internet  RoundTrip            112              20   \n",
       "2               2      Internet  RoundTrip            243              22   \n",
       "3               1      Internet  RoundTrip             96              31   \n",
       "4               2      Internet  RoundTrip             68              22   \n",
       "\n",
       "   flight_hour flight_day   route booking_origin  wants_extra_baggage  \\\n",
       "0            7        Sat  AKLDEL    New Zealand                    1   \n",
       "1            3        Sat  AKLDEL    New Zealand                    0   \n",
       "2           17        Wed  AKLDEL          India                    1   \n",
       "3            4        Sat  AKLDEL    New Zealand                    0   \n",
       "4           15        Wed  AKLDEL          India                    1   \n",
       "\n",
       "   wants_preferred_seat  wants_in_flight_meals  flight_duration  \\\n",
       "0                     0                      0             5.52   \n",
       "1                     0                      0             5.52   \n",
       "2                     1                      0             5.52   \n",
       "3                     0                      1             5.52   \n",
       "4                     0                      1             5.52   \n",
       "\n",
       "   booking_complete  \n",
       "0                 0  \n",
       "1                 0  \n",
       "2                 0  \n",
       "3                 0  \n",
       "4                 0  "
      ]
     },
     "execution_count": 2,
     "metadata": {},
     "output_type": "execute_result"
    }
   ],
   "source": [
    "df = pd.read_csv(\"data/customer_booking.csv\", encoding=\"ISO-8859-1\")\n",
    "df.head()"
   ]
  },
  {
   "cell_type": "code",
   "execution_count": 3,
   "metadata": {},
   "outputs": [
    {
     "name": "stdout",
     "output_type": "stream",
     "text": [
      "<class 'pandas.core.frame.DataFrame'>\n",
      "RangeIndex: 50000 entries, 0 to 49999\n",
      "Data columns (total 14 columns):\n",
      " #   Column                 Non-Null Count  Dtype  \n",
      "---  ------                 --------------  -----  \n",
      " 0   num_passengers         50000 non-null  int64  \n",
      " 1   sales_channel          50000 non-null  object \n",
      " 2   trip_type              50000 non-null  object \n",
      " 3   purchase_lead          50000 non-null  int64  \n",
      " 4   length_of_stay         50000 non-null  int64  \n",
      " 5   flight_hour            50000 non-null  int64  \n",
      " 6   flight_day             50000 non-null  object \n",
      " 7   route                  50000 non-null  object \n",
      " 8   booking_origin         50000 non-null  object \n",
      " 9   wants_extra_baggage    50000 non-null  int64  \n",
      " 10  wants_preferred_seat   50000 non-null  int64  \n",
      " 11  wants_in_flight_meals  50000 non-null  int64  \n",
      " 12  flight_duration        50000 non-null  float64\n",
      " 13  booking_complete       50000 non-null  int64  \n",
      "dtypes: float64(1), int64(8), object(5)\n",
      "memory usage: 5.3+ MB\n"
     ]
    }
   ],
   "source": [
    "df.info()"
   ]
  },
  {
   "cell_type": "code",
   "execution_count": 4,
   "metadata": {},
   "outputs": [
    {
     "data": {
      "text/plain": [
       "num_passengers           0\n",
       "sales_channel            0\n",
       "trip_type                0\n",
       "purchase_lead            0\n",
       "length_of_stay           0\n",
       "flight_hour              0\n",
       "flight_day               0\n",
       "route                    0\n",
       "booking_origin           0\n",
       "wants_extra_baggage      0\n",
       "wants_preferred_seat     0\n",
       "wants_in_flight_meals    0\n",
       "flight_duration          0\n",
       "booking_complete         0\n",
       "dtype: int64"
      ]
     },
     "execution_count": 4,
     "metadata": {},
     "output_type": "execute_result"
    }
   ],
   "source": [
    "# Check Null Values\n",
    "df.isnull().sum()"
   ]
  },
  {
   "cell_type": "code",
   "execution_count": 5,
   "metadata": {},
   "outputs": [
    {
     "data": {
      "text/plain": [
       "719"
      ]
     },
     "execution_count": 5,
     "metadata": {},
     "output_type": "execute_result"
    }
   ],
   "source": [
    "# Check duplicate rows from data set\n",
    "df.duplicated().sum()"
   ]
  },
  {
   "cell_type": "code",
   "execution_count": 6,
   "metadata": {},
   "outputs": [
    {
     "data": {
      "text/plain": [
       "0    42522\n",
       "1     7478\n",
       "Name: booking_complete, dtype: int64"
      ]
     },
     "execution_count": 6,
     "metadata": {},
     "output_type": "execute_result"
    }
   ],
   "source": [
    "# Booking Counts\n",
    "df.booking_complete.value_counts()"
   ]
  },
  {
   "cell_type": "code",
   "execution_count": 7,
   "metadata": {},
   "outputs": [],
   "source": [
    "# Remove duplicate rows from data set\n",
    "df.drop_duplicates(inplace=True)"
   ]
  },
  {
   "cell_type": "code",
   "execution_count": 8,
   "metadata": {},
   "outputs": [
    {
     "data": {
      "text/plain": [
       "(49281, 14)"
      ]
     },
     "execution_count": 8,
     "metadata": {},
     "output_type": "execute_result"
    }
   ],
   "source": [
    "# Shape of Dataset after duplication removal\n",
    "df.shape"
   ]
  },
  {
   "cell_type": "code",
   "execution_count": 9,
   "metadata": {},
   "outputs": [
    {
     "data": {
      "text/plain": [
       "0    41890\n",
       "1     7391\n",
       "Name: booking_complete, dtype: int64"
      ]
     },
     "execution_count": 9,
     "metadata": {},
     "output_type": "execute_result"
    }
   ],
   "source": [
    "# Bookings counts after duplication removal\n",
    "df.booking_complete.value_counts()"
   ]
  },
  {
   "cell_type": "markdown",
   "metadata": {},
   "source": [
    "## Mutual Information"
   ]
  },
  {
   "cell_type": "code",
   "execution_count": 10,
   "metadata": {},
   "outputs": [
    {
     "name": "stdout",
     "output_type": "stream",
     "text": [
      "<class 'pandas.core.frame.DataFrame'>\n",
      "Int64Index: 49281 entries, 0 to 49999\n",
      "Data columns (total 14 columns):\n",
      " #   Column                 Non-Null Count  Dtype  \n",
      "---  ------                 --------------  -----  \n",
      " 0   num_passengers         49281 non-null  int64  \n",
      " 1   sales_channel          49281 non-null  int32  \n",
      " 2   trip_type              49281 non-null  int32  \n",
      " 3   purchase_lead          49281 non-null  int64  \n",
      " 4   length_of_stay         49281 non-null  int64  \n",
      " 5   flight_hour            49281 non-null  int64  \n",
      " 6   flight_day             49281 non-null  int32  \n",
      " 7   route                  49281 non-null  int32  \n",
      " 8   booking_origin         49281 non-null  int32  \n",
      " 9   wants_extra_baggage    49281 non-null  int64  \n",
      " 10  wants_preferred_seat   49281 non-null  int64  \n",
      " 11  wants_in_flight_meals  49281 non-null  int64  \n",
      " 12  flight_duration        49281 non-null  float64\n",
      " 13  booking_complete       49281 non-null  int64  \n",
      "dtypes: float64(1), int32(5), int64(8)\n",
      "memory usage: 4.7 MB\n"
     ]
    }
   ],
   "source": [
    "from sklearn.preprocessing import LabelEncoder\n",
    "\n",
    "# create a copy of the original data frame\n",
    "df_encoded = df.copy()\n",
    "\n",
    "# iterate over columns with object dtype\n",
    "for colname in df.select_dtypes(\"object\"):\n",
    "    \n",
    "    # initialize a label encoder object\n",
    "    le = LabelEncoder()\n",
    "    \n",
    "    # fit the encoder on the column and transform it\n",
    "    df_encoded[colname] = le.fit_transform(df[colname])\n",
    "    \n",
    "df_encoded.info()"
   ]
  },
  {
   "cell_type": "code",
   "execution_count": 11,
   "metadata": {},
   "outputs": [],
   "source": [
    "# Split Features and Target Variable\n",
    "X_features = df_encoded.drop('booking_complete', axis=1)\n",
    "y_target = df_encoded['booking_complete']"
   ]
  },
  {
   "cell_type": "code",
   "execution_count": 12,
   "metadata": {},
   "outputs": [
    {
     "data": {
      "text/plain": [
       "route                    0.053550\n",
       "booking_origin           0.045653\n",
       "flight_duration          0.016526\n",
       "length_of_stay           0.010146\n",
       "wants_extra_baggage      0.009184\n",
       "trip_type                0.007592\n",
       "wants_in_flight_meals    0.003282\n",
       "wants_preferred_seat     0.002818\n",
       "flight_hour              0.002115\n",
       "flight_day               0.001674\n",
       "num_passengers           0.000727\n",
       "sales_channel            0.000533\n",
       "purchase_lead            0.000193\n",
       "Name: MI Scores, dtype: float64"
      ]
     },
     "execution_count": 12,
     "metadata": {},
     "output_type": "execute_result"
    }
   ],
   "source": [
    "from sklearn.feature_selection import mutual_info_classif\n",
    "\n",
    "mi_scores = mutual_info_classif(X_features, y_target, random_state=123)\n",
    "\n",
    "# Features with their scores\n",
    "mi_scores = pd.Series(mi_scores, name=\"MI Scores\", index=X_features.columns)\n",
    "mi_scores = mi_scores.sort_values(ascending=False)\n",
    "mi_scores"
   ]
  },
  {
   "cell_type": "code",
   "execution_count": 13,
   "metadata": {
    "scrolled": false
   },
   "outputs": [
    {
     "data": {
      "image/png": "[encoded data removed]",
      "text/plain": [
       "<Figure size 640x480 with 1 Axes>"
      ]
     },
     "metadata": {},
     "output_type": "display_data"
    },
    {
     "data": {
      "text/plain": [
       "<Figure size 800x800 with 0 Axes>"
      ]
     },
     "metadata": {},
     "output_type": "display_data"
    }
   ],
   "source": [
    "# plot the MI scores\n",
    "scores = mi_scores.sort_values(ascending=True)\n",
    "width = np.arange(len(scores))\n",
    "ticks = list(scores.index)\n",
    "plt.barh(width, scores)\n",
    "plt.yticks(width, ticks)\n",
    "plt.title(\"Feature Correalation with Target Variable(booking_complete)\")\n",
    "plt.ylabel(\"Features\")\n",
    "plt.xlabel(\"MI Scores\")\n",
    "plt.figure(dpi=100, figsize=(8, 8))\n",
    "plt.show()"
   ]
  },
  {
   "cell_type": "raw",
   "metadata": {},
   "source": [
    "As per plot there are Top 6 Features -\n",
    "    1. route\n",
    "    2. booking_origin\n",
    "    3. flight_duration\n",
    "    4. length_of_stay\n",
    "    5. wants_extra_baggage\n",
    "    6. trip_type"
   ]
  },
  {
   "cell_type": "code",
   "execution_count": 14,
   "metadata": {},
   "outputs": [
    {
     "data": {
      "text/plain": [
       "0    41890\n",
       "1     7391\n",
       "Name: booking_complete, dtype: int64"
      ]
     },
     "execution_count": 14,
     "metadata": {},
     "output_type": "execute_result"
    }
   ],
   "source": [
    "# Target Variable Counts\n",
    "df.booking_complete.value_counts()"
   ]
  },
  {
   "cell_type": "markdown",
   "metadata": {},
   "source": [
    "#### The dataset is imbalanced, with 6 times more instances of booking not completed than of booking completed. To address this, we will perform undersampling to balance the data."
   ]
  },
  {
   "cell_type": "code",
   "execution_count": 15,
   "metadata": {},
   "outputs": [
    {
     "name": "stdout",
     "output_type": "stream",
     "text": [
      "(14782, 13)\n",
      "(14782,)\n"
     ]
    }
   ],
   "source": [
    "from imblearn.under_sampling import RandomUnderSampler\n",
    "\n",
    "rus = RandomUnderSampler(random_state=42)\n",
    "X_resampled, y_resampled = rus.fit_resample(df.drop('booking_complete',axis=1), df.booking_complete)\n",
    "\n",
    "# Shapes of resampled data set\n",
    "print(X_resampled.shape)\n",
    "print(y_resampled.shape)"
   ]
  },
  {
   "cell_type": "code",
   "execution_count": 16,
   "metadata": {},
   "outputs": [
    {
     "data": {
      "text/html": [
       "<div>\n",
       "<style scoped>\n",
       "    .dataframe tbody tr th:only-of-type {\n",
       "        vertical-align: middle;\n",
       "    }\n",
       "\n",
       "    .dataframe tbody tr th {\n",
       "        vertical-align: top;\n",
       "    }\n",
       "\n",
       "    .dataframe thead th {\n",
       "        text-align: right;\n",
       "    }\n",
       "</style>\n",
       "<table border=\"1\" class=\"dataframe\">\n",
       "  <thead>\n",
       "    <tr style=\"text-align: right;\">\n",
       "      <th></th>\n",
       "      <th>num_passengers</th>\n",
       "      <th>sales_channel</th>\n",
       "      <th>trip_type</th>\n",
       "      <th>purchase_lead</th>\n",
       "      <th>length_of_stay</th>\n",
       "      <th>flight_hour</th>\n",
       "      <th>flight_day</th>\n",
       "      <th>route</th>\n",
       "      <th>booking_origin</th>\n",
       "      <th>wants_extra_baggage</th>\n",
       "      <th>wants_preferred_seat</th>\n",
       "      <th>wants_in_flight_meals</th>\n",
       "      <th>flight_duration</th>\n",
       "    </tr>\n",
       "  </thead>\n",
       "  <tbody>\n",
       "    <tr>\n",
       "      <th>0</th>\n",
       "      <td>2</td>\n",
       "      <td>Internet</td>\n",
       "      <td>RoundTrip</td>\n",
       "      <td>7</td>\n",
       "      <td>83</td>\n",
       "      <td>16</td>\n",
       "      <td>Tue</td>\n",
       "      <td>AKLKUL</td>\n",
       "      <td>Malaysia</td>\n",
       "      <td>1</td>\n",
       "      <td>0</td>\n",
       "      <td>1</td>\n",
       "      <td>8.83</td>\n",
       "    </tr>\n",
       "    <tr>\n",
       "      <th>1</th>\n",
       "      <td>2</td>\n",
       "      <td>Internet</td>\n",
       "      <td>RoundTrip</td>\n",
       "      <td>51</td>\n",
       "      <td>35</td>\n",
       "      <td>6</td>\n",
       "      <td>Sun</td>\n",
       "      <td>ICNSYD</td>\n",
       "      <td>South Korea</td>\n",
       "      <td>0</td>\n",
       "      <td>0</td>\n",
       "      <td>0</td>\n",
       "      <td>8.58</td>\n",
       "    </tr>\n",
       "    <tr>\n",
       "      <th>2</th>\n",
       "      <td>1</td>\n",
       "      <td>Mobile</td>\n",
       "      <td>RoundTrip</td>\n",
       "      <td>151</td>\n",
       "      <td>1</td>\n",
       "      <td>8</td>\n",
       "      <td>Tue</td>\n",
       "      <td>ICNOOL</td>\n",
       "      <td>South Korea</td>\n",
       "      <td>1</td>\n",
       "      <td>1</td>\n",
       "      <td>1</td>\n",
       "      <td>8.83</td>\n",
       "    </tr>\n",
       "    <tr>\n",
       "      <th>3</th>\n",
       "      <td>2</td>\n",
       "      <td>Internet</td>\n",
       "      <td>RoundTrip</td>\n",
       "      <td>77</td>\n",
       "      <td>6</td>\n",
       "      <td>5</td>\n",
       "      <td>Thu</td>\n",
       "      <td>ICNSYD</td>\n",
       "      <td>South Korea</td>\n",
       "      <td>0</td>\n",
       "      <td>0</td>\n",
       "      <td>0</td>\n",
       "      <td>8.58</td>\n",
       "    </tr>\n",
       "    <tr>\n",
       "      <th>4</th>\n",
       "      <td>2</td>\n",
       "      <td>Internet</td>\n",
       "      <td>RoundTrip</td>\n",
       "      <td>270</td>\n",
       "      <td>3</td>\n",
       "      <td>0</td>\n",
       "      <td>Sun</td>\n",
       "      <td>HNDLGK</td>\n",
       "      <td>Japan</td>\n",
       "      <td>0</td>\n",
       "      <td>0</td>\n",
       "      <td>0</td>\n",
       "      <td>7.57</td>\n",
       "    </tr>\n",
       "    <tr>\n",
       "      <th>...</th>\n",
       "      <td>...</td>\n",
       "      <td>...</td>\n",
       "      <td>...</td>\n",
       "      <td>...</td>\n",
       "      <td>...</td>\n",
       "      <td>...</td>\n",
       "      <td>...</td>\n",
       "      <td>...</td>\n",
       "      <td>...</td>\n",
       "      <td>...</td>\n",
       "      <td>...</td>\n",
       "      <td>...</td>\n",
       "      <td>...</td>\n",
       "    </tr>\n",
       "    <tr>\n",
       "      <th>14777</th>\n",
       "      <td>1</td>\n",
       "      <td>Internet</td>\n",
       "      <td>RoundTrip</td>\n",
       "      <td>33</td>\n",
       "      <td>6</td>\n",
       "      <td>6</td>\n",
       "      <td>Wed</td>\n",
       "      <td>PENTPE</td>\n",
       "      <td>Taiwan</td>\n",
       "      <td>1</td>\n",
       "      <td>1</td>\n",
       "      <td>0</td>\n",
       "      <td>4.67</td>\n",
       "    </tr>\n",
       "    <tr>\n",
       "      <th>14778</th>\n",
       "      <td>2</td>\n",
       "      <td>Internet</td>\n",
       "      <td>RoundTrip</td>\n",
       "      <td>15</td>\n",
       "      <td>6</td>\n",
       "      <td>16</td>\n",
       "      <td>Tue</td>\n",
       "      <td>PENTPE</td>\n",
       "      <td>Malaysia</td>\n",
       "      <td>1</td>\n",
       "      <td>1</td>\n",
       "      <td>1</td>\n",
       "      <td>4.67</td>\n",
       "    </tr>\n",
       "    <tr>\n",
       "      <th>14779</th>\n",
       "      <td>4</td>\n",
       "      <td>Internet</td>\n",
       "      <td>RoundTrip</td>\n",
       "      <td>242</td>\n",
       "      <td>6</td>\n",
       "      <td>9</td>\n",
       "      <td>Tue</td>\n",
       "      <td>PENXIY</td>\n",
       "      <td>Malaysia</td>\n",
       "      <td>1</td>\n",
       "      <td>0</td>\n",
       "      <td>1</td>\n",
       "      <td>5.00</td>\n",
       "    </tr>\n",
       "    <tr>\n",
       "      <th>14780</th>\n",
       "      <td>2</td>\n",
       "      <td>Internet</td>\n",
       "      <td>RoundTrip</td>\n",
       "      <td>7</td>\n",
       "      <td>6</td>\n",
       "      <td>4</td>\n",
       "      <td>Wed</td>\n",
       "      <td>PERPNH</td>\n",
       "      <td>Australia</td>\n",
       "      <td>0</td>\n",
       "      <td>0</td>\n",
       "      <td>0</td>\n",
       "      <td>5.62</td>\n",
       "    </tr>\n",
       "    <tr>\n",
       "      <th>14781</th>\n",
       "      <td>3</td>\n",
       "      <td>Internet</td>\n",
       "      <td>RoundTrip</td>\n",
       "      <td>243</td>\n",
       "      <td>6</td>\n",
       "      <td>12</td>\n",
       "      <td>Fri</td>\n",
       "      <td>PERPNH</td>\n",
       "      <td>Australia</td>\n",
       "      <td>1</td>\n",
       "      <td>0</td>\n",
       "      <td>1</td>\n",
       "      <td>5.62</td>\n",
       "    </tr>\n",
       "  </tbody>\n",
       "</table>\n",
       "<p>14782 rows × 13 columns</p>\n",
       "</div>"
      ],
      "text/plain": [
       "       num_passengers sales_channel  trip_type  purchase_lead  length_of_stay  \\\n",
       "0                   2      Internet  RoundTrip              7              83   \n",
       "1                   2      Internet  RoundTrip             51              35   \n",
       "2                   1        Mobile  RoundTrip            151               1   \n",
       "3                   2      Internet  RoundTrip             77               6   \n",
       "4                   2      Internet  RoundTrip            270               3   \n",
       "...               ...           ...        ...            ...             ...   \n",
       "14777               1      Internet  RoundTrip             33               6   \n",
       "14778               2      Internet  RoundTrip             15               6   \n",
       "14779               4      Internet  RoundTrip            242               6   \n",
       "14780               2      Internet  RoundTrip              7               6   \n",
       "14781               3      Internet  RoundTrip            243               6   \n",
       "\n",
       "       flight_hour flight_day   route booking_origin  wants_extra_baggage  \\\n",
       "0               16        Tue  AKLKUL       Malaysia                    1   \n",
       "1                6        Sun  ICNSYD    South Korea                    0   \n",
       "2                8        Tue  ICNOOL    South Korea                    1   \n",
       "3                5        Thu  ICNSYD    South Korea                    0   \n",
       "4                0        Sun  HNDLGK          Japan                    0   \n",
       "...            ...        ...     ...            ...                  ...   \n",
       "14777            6        Wed  PENTPE         Taiwan                    1   \n",
       "14778           16        Tue  PENTPE       Malaysia                    1   \n",
       "14779            9        Tue  PENXIY       Malaysia                    1   \n",
       "14780            4        Wed  PERPNH      Australia                    0   \n",
       "14781           12        Fri  PERPNH      Australia                    1   \n",
       "\n",
       "       wants_preferred_seat  wants_in_flight_meals  flight_duration  \n",
       "0                         0                      1             8.83  \n",
       "1                         0                      0             8.58  \n",
       "2                         1                      1             8.83  \n",
       "3                         0                      0             8.58  \n",
       "4                         0                      0             7.57  \n",
       "...                     ...                    ...              ...  \n",
       "14777                     1                      0             4.67  \n",
       "14778                     1                      1             4.67  \n",
       "14779                     0                      1             5.00  \n",
       "14780                     0                      0             5.62  \n",
       "14781                     0                      1             5.62  \n",
       "\n",
       "[14782 rows x 13 columns]"
      ]
     },
     "execution_count": 16,
     "metadata": {},
     "output_type": "execute_result"
    }
   ],
   "source": [
    "X_resampled"
   ]
  },
  {
   "cell_type": "code",
   "execution_count": 17,
   "metadata": {},
   "outputs": [
    {
     "data": {
      "text/plain": [
       "0        0\n",
       "1        0\n",
       "2        0\n",
       "3        0\n",
       "4        0\n",
       "        ..\n",
       "14777    1\n",
       "14778    1\n",
       "14779    1\n",
       "14780    1\n",
       "14781    1\n",
       "Name: booking_complete, Length: 14782, dtype: int64"
      ]
     },
     "execution_count": 17,
     "metadata": {},
     "output_type": "execute_result"
    }
   ],
   "source": [
    "y_resampled"
   ]
  },
  {
   "cell_type": "code",
   "execution_count": 18,
   "metadata": {},
   "outputs": [],
   "source": [
    "# Normalize the data set\n",
    "from sklearn.preprocessing import MinMaxScaler\n",
    "\n",
    "def scale(X):\n",
    "    scaler = MinMaxScaler()\n",
    "    scaler.fit(X)\n",
    "    return X"
   ]
  },
  {
   "cell_type": "code",
   "execution_count": 19,
   "metadata": {},
   "outputs": [],
   "source": [
    "# Train Test data split\n",
    "from sklearn.model_selection import train_test_split\n",
    "   \n",
    "# one hot encoding\n",
    "X = pd.get_dummies(X_resampled)\n",
    "X = scale(X)\n",
    "y = y_resampled\n",
    "\n",
    "X_train, X_test, y_train, y_test = train_test_split(X, y, test_size=0.2, random_state=123)"
   ]
  },
  {
   "cell_type": "markdown",
   "metadata": {},
   "source": [
    "## Model Building\n",
    "----\n",
    "### 1. Random Forest"
   ]
  },
  {
   "cell_type": "code",
   "execution_count": 20,
   "metadata": {},
   "outputs": [
    {
     "name": "stdout",
     "output_type": "stream",
     "text": [
      "                      Random Forest Results\n",
      "              precision    recall  f1-score   support\n",
      "\n",
      "           0       0.74      0.68      0.71      1461\n",
      "           1       0.71      0.77      0.74      1496\n",
      "\n",
      "    accuracy                           0.73      2957\n",
      "   macro avg       0.73      0.73      0.73      2957\n",
      "weighted avg       0.73      0.73      0.73      2957\n",
      "\n"
     ]
    }
   ],
   "source": [
    "from sklearn.ensemble import RandomForestClassifier\n",
    "from sklearn.metrics import roc_auc_score, accuracy_score\n",
    "from sklearn.metrics import classification_report\n",
    "from sklearn.metrics import confusion_matrix\n",
    "from sklearn.metrics import f1_score\n",
    "\n",
    "# Create a random forest classifier\n",
    "rfc = RandomForestClassifier(n_estimators=1000, min_samples_split=100, random_state=0, max_depth=None)\n",
    "\n",
    "# Fit the model to the training data\n",
    "rfc.fit(X_train, y_train)\n",
    "\n",
    "# Predict on the test data\n",
    "y_pred = rfc.predict(X_test)\n",
    "\n",
    "# Actual Values on test data\n",
    "y_actual = y_test.values\n",
    "\n",
    "print('                      Random Forest Results')\n",
    "print(classification_report(y_actual, y_pred))"
   ]
  },
  {
   "cell_type": "code",
   "execution_count": 21,
   "metadata": {},
   "outputs": [
    {
     "name": "stdout",
     "output_type": "stream",
     "text": [
      "ACCURACY:  72.74\n",
      "AUC score:  0.726892\n"
     ]
    }
   ],
   "source": [
    "# Model Accuracy & Score\n",
    "print('ACCURACY: ',round(accuracy_score(y_actual,y_pred)*100,2))\n",
    "print('AUC score: ',round(roc_auc_score(y_actual,y_pred),6))"
   ]
  },
  {
   "cell_type": "markdown",
   "metadata": {},
   "source": [
    "### 2. Decision Tree"
   ]
  },
  {
   "cell_type": "code",
   "execution_count": 22,
   "metadata": {},
   "outputs": [
    {
     "name": "stdout",
     "output_type": "stream",
     "text": [
      "                      Decision Tree Results\n",
      "              precision    recall  f1-score   support\n",
      "\n",
      "           0       0.63      0.65      0.64      1461\n",
      "           1       0.65      0.62      0.63      1496\n",
      "\n",
      "    accuracy                           0.64      2957\n",
      "   macro avg       0.64      0.64      0.64      2957\n",
      "weighted avg       0.64      0.64      0.64      2957\n",
      "\n"
     ]
    }
   ],
   "source": [
    "from sklearn.tree import DecisionTreeClassifier\n",
    "\n",
    "# Create Decision Tree\n",
    "dt = DecisionTreeClassifier(max_depth=None, min_samples_split=2, random_state=0)\n",
    "\n",
    "# Fit the model to the training data\n",
    "dt.fit(X_train, y_train)\n",
    "\n",
    "# Predict on the test data\n",
    "y_pred = dt.predict(X_test)\n",
    "\n",
    "# Actual Values on test data\n",
    "y_actual = y_test.values\n",
    "\n",
    "print('                      Decision Tree Results')\n",
    "print(classification_report(y_actual, y_pred))"
   ]
  },
  {
   "cell_type": "code",
   "execution_count": 23,
   "metadata": {},
   "outputs": [
    {
     "name": "stdout",
     "output_type": "stream",
     "text": [
      "ACCURACY:  63.65\n",
      "AUC score:  0.636609\n"
     ]
    }
   ],
   "source": [
    "# Model Accuracy & Score\n",
    "print('ACCURACY: ',round(accuracy_score(y_actual,y_pred)*100,2))\n",
    "print('AUC score: ',round(roc_auc_score(y_actual,y_pred),6))"
   ]
  },
  {
   "cell_type": "markdown",
   "metadata": {},
   "source": [
    "### 3. XGBoost"
   ]
  },
  {
   "cell_type": "code",
   "execution_count": 24,
   "metadata": {},
   "outputs": [
    {
     "name": "stdout",
     "output_type": "stream",
     "text": [
      "                      XGB Results\n",
      "              precision    recall  f1-score   support\n",
      "\n",
      "           0       0.74      0.69      0.71      1461\n",
      "           1       0.71      0.76      0.74      1496\n",
      "\n",
      "    accuracy                           0.72      2957\n",
      "   macro avg       0.73      0.72      0.72      2957\n",
      "weighted avg       0.73      0.72      0.72      2957\n",
      "\n"
     ]
    }
   ],
   "source": [
    "from xgboost import XGBClassifier\n",
    "\n",
    "# Create XGB Classifier\n",
    "xgb_model = XGBClassifier()\n",
    "\n",
    "# Fit the model to the training data\n",
    "xgb_model.fit(X_train, y_train)\n",
    "\n",
    "# Predict on the test data\n",
    "y_pred = xgb_model.predict(X_test)\n",
    "\n",
    "# Actual Values on test data\n",
    "y_actual = y_test.values\n",
    "\n",
    "print('                      XGB Results')\n",
    "print(classification_report(y_actual, y_pred))"
   ]
  },
  {
   "cell_type": "code",
   "execution_count": 25,
   "metadata": {},
   "outputs": [
    {
     "name": "stdout",
     "output_type": "stream",
     "text": [
      "ACCURACY:  72.47\n",
      "AUC score:  0.724282\n"
     ]
    }
   ],
   "source": [
    "# Model Accuracy & Score\n",
    "print('ACCURACY: ',round(accuracy_score(y_actual,y_pred)*100,2))\n",
    "print('AUC score: ',round(roc_auc_score(y_actual,y_pred),6))"
   ]
  },
  {
   "cell_type": "markdown",
   "metadata": {},
   "source": [
    "### 4. Logistic Regression"
   ]
  },
  {
   "cell_type": "code",
   "execution_count": 26,
   "metadata": {},
   "outputs": [
    {
     "name": "stdout",
     "output_type": "stream",
     "text": [
      "                      Logistic Regression Results\n",
      "              precision    recall  f1-score   support\n",
      "\n",
      "           0       0.69      0.68      0.69      1461\n",
      "           1       0.70      0.71      0.70      1496\n",
      "\n",
      "    accuracy                           0.70      2957\n",
      "   macro avg       0.70      0.70      0.70      2957\n",
      "weighted avg       0.70      0.70      0.70      2957\n",
      "\n"
     ]
    }
   ],
   "source": [
    "from sklearn.linear_model import LogisticRegression\n",
    "\n",
    "# Create Logistic Regression Model\n",
    "lr = LogisticRegression()\n",
    "\n",
    "# Fit the model on the training data\n",
    "lr.fit(X_train, y_train)\n",
    "\n",
    "# Predict the labels of the test set\n",
    "y_pred = lr.predict(X_test)\n",
    "\n",
    "# Actual Values on test data\n",
    "y_actual = y_test.values\n",
    "\n",
    "print('                      Logistic Regression Results')\n",
    "print(classification_report(y_actual, y_pred))"
   ]
  },
  {
   "cell_type": "code",
   "execution_count": 27,
   "metadata": {},
   "outputs": [
    {
     "name": "stdout",
     "output_type": "stream",
     "text": [
      "ACCURACY:  69.53\n",
      "AUC score:  0.695157\n"
     ]
    }
   ],
   "source": [
    "# Model Accuracy & Score\n",
    "print('ACCURACY: ',round(accuracy_score(y_actual,y_pred)*100,2))\n",
    "print('AUC score: ',round(roc_auc_score(y_actual,y_pred),6))"
   ]
  },
  {
   "cell_type": "markdown",
   "metadata": {},
   "source": [
    "### 5. K-Nearest Neighbors"
   ]
  },
  {
   "cell_type": "code",
   "execution_count": 28,
   "metadata": {},
   "outputs": [
    {
     "name": "stdout",
     "output_type": "stream",
     "text": [
      "                      KNN Results\n",
      "              precision    recall  f1-score   support\n",
      "\n",
      "           0       0.56      0.57      0.57      1461\n",
      "           1       0.57      0.56      0.57      1496\n",
      "\n",
      "    accuracy                           0.57      2957\n",
      "   macro avg       0.57      0.57      0.57      2957\n",
      "weighted avg       0.57      0.57      0.57      2957\n",
      "\n"
     ]
    }
   ],
   "source": [
    "from sklearn.neighbors import KNeighborsClassifier\n",
    "\n",
    "# Create K-Neighbor Classifier Model\n",
    "knn = KNeighborsClassifier()\n",
    "\n",
    "# Fit the model on the training data\n",
    "knn.fit(X_train, y_train)\n",
    "\n",
    "# Predict the labels of the test set\n",
    "y_pred = knn.predict(X_test)\n",
    "\n",
    "# Actual Values on test data\n",
    "y_actual = y_test.values\n",
    "\n",
    "print('                      KNN Results')\n",
    "print(classification_report(y_actual, y_pred))"
   ]
  },
  {
   "cell_type": "code",
   "execution_count": 29,
   "metadata": {},
   "outputs": [
    {
     "name": "stdout",
     "output_type": "stream",
     "text": [
      "ACCURACY:  56.81\n",
      "AUC score:  0.568207\n"
     ]
    }
   ],
   "source": [
    "# Model Accuracy & Score\n",
    "print('ACCURACY: ',round(accuracy_score(y_actual,y_pred)*100,2))\n",
    "print('AUC score: ',round(roc_auc_score(y_actual,y_pred),6))"
   ]
  },
  {
   "cell_type": "markdown",
   "metadata": {},
   "source": [
    "### 6. Support Vector Machine (SVM)"
   ]
  },
  {
   "cell_type": "code",
   "execution_count": 30,
   "metadata": {},
   "outputs": [
    {
     "name": "stdout",
     "output_type": "stream",
     "text": [
      "                      SVM Results\n",
      "              precision    recall  f1-score   support\n",
      "\n",
      "           0       0.60      0.49      0.54      1461\n",
      "           1       0.58      0.67      0.62      1496\n",
      "\n",
      "    accuracy                           0.59      2957\n",
      "   macro avg       0.59      0.58      0.58      2957\n",
      "weighted avg       0.59      0.59      0.58      2957\n",
      "\n"
     ]
    }
   ],
   "source": [
    "from sklearn.svm import SVC\n",
    "\n",
    "# Create SVM Model\n",
    "svm = SVC()\n",
    "\n",
    "# Fit the model on the training data\n",
    "svm.fit(X_train, y_train)\n",
    "\n",
    "# Predict the labels of the test set\n",
    "y_pred = svm.predict(X_test)\n",
    "\n",
    "# Actual Values on test data\n",
    "y_actual = y_test.values\n",
    "\n",
    "print('                      SVM Results')\n",
    "print(classification_report(y_actual, y_pred))"
   ]
  },
  {
   "cell_type": "code",
   "execution_count": 31,
   "metadata": {},
   "outputs": [
    {
     "name": "stdout",
     "output_type": "stream",
     "text": [
      "ACCURACY:  58.54\n",
      "AUC score:  0.584324\n"
     ]
    }
   ],
   "source": [
    "# Model Accuracy & Score\n",
    "print('ACCURACY: ',round(accuracy_score(y_actual,y_pred)*100,2))\n",
    "print('AUC score: ',round(roc_auc_score(y_actual,y_pred),6))"
   ]
  },
  {
   "cell_type": "markdown",
   "metadata": {},
   "source": [
    "### 7. Gradient Boosting"
   ]
  },
  {
   "cell_type": "code",
   "execution_count": 32,
   "metadata": {},
   "outputs": [
    {
     "name": "stdout",
     "output_type": "stream",
     "text": [
      "                      Gradient Boosting Results\n",
      "              precision    recall  f1-score   support\n",
      "\n",
      "           0       0.74      0.66      0.69      1461\n",
      "           1       0.70      0.77      0.73      1496\n",
      "\n",
      "    accuracy                           0.71      2957\n",
      "   macro avg       0.72      0.71      0.71      2957\n",
      "weighted avg       0.72      0.71      0.71      2957\n",
      "\n"
     ]
    }
   ],
   "source": [
    "from sklearn.ensemble import GradientBoostingClassifier\n",
    "\n",
    "# Create Gradient Boosting Model\n",
    "gb = GradientBoostingClassifier()\n",
    "\n",
    "# Fit the model on the training data\n",
    "gb.fit(X_train, y_train)\n",
    "\n",
    "# Predict the labels of the test set\n",
    "y_pred = gb.predict(X_test)\n",
    "\n",
    "# Actual Values on test data\n",
    "y_actual = y_test.values\n",
    "\n",
    "print('                      Gradient Boosting Results')\n",
    "print(classification_report(y_actual, y_pred))"
   ]
  },
  {
   "cell_type": "code",
   "execution_count": 33,
   "metadata": {},
   "outputs": [
    {
     "name": "stdout",
     "output_type": "stream",
     "text": [
      "ACCURACY:  71.46\n",
      "AUC score:  0.713911\n"
     ]
    }
   ],
   "source": [
    "# Model Accuracy & Score\n",
    "print('ACCURACY: ',round(accuracy_score(y_actual,y_pred)*100,2))\n",
    "print('AUC score: ',round(roc_auc_score(y_actual,y_pred),6))"
   ]
  }
 ],
 "metadata": {
  "kernelspec": {
   "display_name": "Python 3 (ipykernel)",
   "language": "python",
   "name": "python3"
  },
  "language_info": {
   "codemirror_mode": {
    "name": "ipython",
    "version": 3
   },
   "file_extension": ".py",
   "mimetype": "text/x-python",
   "name": "python",
   "nbconvert_exporter": "python",
   "pygments_lexer": "ipython3",
   "version": "3.10.9"
  },
  "vscode": {
   "interpreter": {
    "hash": "4f7924c4c56b083e0e50eadfe7ef592a7a8ef70df33a0047f82280e6be1afe15"
   }
  }
 },
 "nbformat": 4,
 "nbformat_minor": 2
}
